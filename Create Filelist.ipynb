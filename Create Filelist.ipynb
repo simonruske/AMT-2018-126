{
 "cells": [
  {
   "cell_type": "markdown",
   "metadata": {},
   "source": [
    "# Create the filelist\n",
    "We shall begin by creating a filelist for the PSLs, the data set collected in 2008 and the data set collected in 2014.\n",
    "\n",
    "## The code"
   ]
  },
  {
   "cell_type": "code",
   "execution_count": 2,
   "metadata": {
    "scrolled": true
   },
   "outputs": [],
   "source": [
    "import os\n",
    "import pandas as pd"
   ]
  },
  {
   "cell_type": "code",
   "execution_count": 9,
   "metadata": {},
   "outputs": [],
   "source": [
    "def create_filelist(data_directory, filelist_name):\n",
    "    \n",
    "    '''\n",
    "    Function for creating a filelist.csv file\n",
    "    which can be used for labelling each file. \n",
    "    \n",
    "    The filelist will be saved to the current directory and\n",
    "    NOT the data_directory\n",
    "    \n",
    "    Parameters\n",
    "    ----------\n",
    "    data_directory : str\n",
    "      directory containing the data files to be labelled.\n",
    "      \n",
    "    filelist_name : str\n",
    "      Name of the filelist e.g. filelist_2008.csv\n",
    "    '''\n",
    "    \n",
    "    # open the filelist file in write mode\n",
    "    with open(filelist_name, 'w') as f:\n",
    "        \n",
    "        # write header\n",
    "        f.write('Filename,Label,Short Name\\n') \n",
    "        \n",
    "        # write a line containing the filename of each file\n",
    "        for file in os.listdir(data_directory): \n",
    "            f.write(file+'\\n')"
   ]
  },
  {
   "cell_type": "code",
   "execution_count": 10,
   "metadata": {},
   "outputs": [],
   "source": [
    "# for each of the data directories create a filelist\n",
    "for sub_directory in ['PSL', '2008', '2014']:\n",
    "    data_directory = os.path.join(os.curdir, sub_directory)\n",
    "    filelist_name = 'filelist_{}.csv'.format(sub_directory)\n",
    "    create_filelist(data_directory, filelist_name)"
   ]
  },
  {
   "cell_type": "markdown",
   "metadata": {},
   "source": [
    "## Editing the filelists\n",
    "Once the above code is run we should create three filelists: filelist_2008.csv, filelist_2014.csv and filelist_PSL.csv. Each of the files are editted using a standard spreadsheet package e.g. Excel. The following notation is used to label each of the laboratory files\n",
    "\n",
    "| Label | Description         |\n",
    "|-------|---------------------|\n",
    "| F     | Forced trigger file |\n",
    "| 1     | Bacteria            | \n",
    "| 2     | Fungal              | \n",
    "| 3     | Pollen              |\n",
    "| 4     | Non-biological      |\n",
    "\n",
    "The following notation is used to label the PSL data\n",
    "\n",
    "| Label | Decscription        |\n",
    "|-------|---------------------|\n",
    "| F     | Forced trigger file |\n",
    "| 1     | $1\\mu$m Green       |\n",
    "| 2     | $2.1\\mu$m Blue      |\n",
    "| 3     | $2.2\\mu$m Red       |\n",
    "| 4     | $3.1\\mu$m Green    |\n",
    "| 5     | $4.17\\mu$m          |\n",
    "\n",
    "\n",
    "In addition, we provide a shorthand name for each file which will be useful later on when we plot figures and create tables.\n",
    "\n",
    "## The output\n",
    "Once the filelist has been modified using spreadsheet package, the following .csv file is produced for the PSL data set."
   ]
  },
  {
   "cell_type": "code",
   "execution_count": 7,
   "metadata": {},
   "outputs": [
    {
     "data": {
      "text/html": [
       "<div>\n",
       "<style scoped>\n",
       "    .dataframe tbody tr th:only-of-type {\n",
       "        vertical-align: middle;\n",
       "    }\n",
       "\n",
       "    .dataframe tbody tr th {\n",
       "        vertical-align: top;\n",
       "    }\n",
       "\n",
       "    .dataframe thead th {\n",
       "        text-align: right;\n",
       "    }\n",
       "</style>\n",
       "<table border=\"1\" class=\"dataframe\">\n",
       "  <thead>\n",
       "    <tr style=\"text-align: right;\">\n",
       "      <th></th>\n",
       "      <th>Filename</th>\n",
       "      <th>Label</th>\n",
       "      <th>Short Name</th>\n",
       "    </tr>\n",
       "  </thead>\n",
       "  <tbody>\n",
       "    <tr>\n",
       "      <th>0</th>\n",
       "      <td>1_green_0000.csv</td>\n",
       "      <td>1</td>\n",
       "      <td>$1\\mu$m Green I</td>\n",
       "    </tr>\n",
       "    <tr>\n",
       "      <th>1</th>\n",
       "      <td>1_green_0001.csv</td>\n",
       "      <td>1</td>\n",
       "      <td>$1\\mu$m Green I</td>\n",
       "    </tr>\n",
       "    <tr>\n",
       "      <th>2</th>\n",
       "      <td>2.1_blue_0000.csv</td>\n",
       "      <td>2</td>\n",
       "      <td>$2.1\\mu$m Blue</td>\n",
       "    </tr>\n",
       "    <tr>\n",
       "      <th>3</th>\n",
       "      <td>2.2_red_0000.csv</td>\n",
       "      <td>3</td>\n",
       "      <td>$2.2\\mu$m Red</td>\n",
       "    </tr>\n",
       "    <tr>\n",
       "      <th>4</th>\n",
       "      <td>3.1_green_0000.csv</td>\n",
       "      <td>4</td>\n",
       "      <td>$3.1\\mu$m Green</td>\n",
       "    </tr>\n",
       "    <tr>\n",
       "      <th>5</th>\n",
       "      <td>4.17_0000_0001.csv</td>\n",
       "      <td>5</td>\n",
       "      <td>$4.17\\mu$m I</td>\n",
       "    </tr>\n",
       "    <tr>\n",
       "      <th>6</th>\n",
       "      <td>4.17_0000_0002.csv</td>\n",
       "      <td>5</td>\n",
       "      <td>$4.17\\mu$m II</td>\n",
       "    </tr>\n",
       "    <tr>\n",
       "      <th>7</th>\n",
       "      <td>4.17_0000_0003.csv</td>\n",
       "      <td>5</td>\n",
       "      <td>$4.17\\mu$m III</td>\n",
       "    </tr>\n",
       "    <tr>\n",
       "      <th>8</th>\n",
       "      <td>FT2_0000.csv</td>\n",
       "      <td>F</td>\n",
       "      <td>NaN</td>\n",
       "    </tr>\n",
       "    <tr>\n",
       "      <th>9</th>\n",
       "      <td>FT_0000.csv</td>\n",
       "      <td>F</td>\n",
       "      <td>NaN</td>\n",
       "    </tr>\n",
       "  </tbody>\n",
       "</table>\n",
       "</div>"
      ],
      "text/plain": [
       "             Filename Label       Short Name\n",
       "0    1_green_0000.csv     1  $1\\mu$m Green I\n",
       "1    1_green_0001.csv     1  $1\\mu$m Green I\n",
       "2   2.1_blue_0000.csv     2   $2.1\\mu$m Blue\n",
       "3    2.2_red_0000.csv     3    $2.2\\mu$m Red\n",
       "4  3.1_green_0000.csv     4  $3.1\\mu$m Green\n",
       "5  4.17_0000_0001.csv     5     $4.17\\mu$m I\n",
       "6  4.17_0000_0002.csv     5    $4.17\\mu$m II\n",
       "7  4.17_0000_0003.csv     5   $4.17\\mu$m III\n",
       "8        FT2_0000.csv     F              NaN\n",
       "9         FT_0000.csv     F              NaN"
      ]
     },
     "execution_count": 7,
     "metadata": {},
     "output_type": "execute_result"
    }
   ],
   "source": [
    "pd.read_csv('filelist_PSL.csv')"
   ]
  }
 ],
 "metadata": {
  "kernelspec": {
   "display_name": "Python 3",
   "language": "python",
   "name": "python3"
  },
  "language_info": {
   "codemirror_mode": {
    "name": "ipython",
    "version": 3
   },
   "file_extension": ".py",
   "mimetype": "text/x-python",
   "name": "python",
   "nbconvert_exporter": "python",
   "pygments_lexer": "ipython3",
   "version": "3.7.0"
  }
 },
 "nbformat": 4,
 "nbformat_minor": 2
}
